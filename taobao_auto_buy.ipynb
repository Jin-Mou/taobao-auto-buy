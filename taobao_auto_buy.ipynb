{
 "cells": [
  {
   "cell_type": "markdown",
   "id": "edcd4eba",
   "metadata": {},
   "source": [
    "# Import package"
   ]
  },
  {
   "cell_type": "code",
   "execution_count": 1,
   "id": "46cfab56",
   "metadata": {},
   "outputs": [],
   "source": [
    "from selenium import webdriver\n",
    "from selenium.webdriver.common.by import By\n",
    "from selenium.webdriver.common.keys import Keys\n",
    "\n",
    "import datetime\n",
    "import time"
   ]
  },
  {
   "cell_type": "markdown",
   "id": "aed721e3",
   "metadata": {},
   "source": [
    "# Define related functions"
   ]
  },
  {
   "cell_type": "code",
   "execution_count": 8,
   "id": "eb21bb18",
   "metadata": {},
   "outputs": [],
   "source": [
    "def login():\n",
    "    '''\n",
    "    Go into the tabao window and log in.\n",
    "    There are some errors if we use account to log in, so here we scan the code to log in.\n",
    "    '''\n",
    "    # go into the tabao window and log in\n",
    "    browser.get('https://www.taobao.com/index.php?from=top')\n",
    "    time.sleep(5)\n",
    "    \n",
    "    if browser.find_element(By.LINK_TEXT, '亲，请登录'):\n",
    "        browser.find_element(By.LINK_TEXT, '亲，请登录').click()\n",
    "        try:\n",
    "            browser.find_element(By.XPATH, '//*[@id=\"login\"]/div[1]/i').click()\n",
    "        except:\n",
    "            print('请手动点扫二维码')\n",
    "        \n",
    "        # now scan the code\n",
    "        print(\"您有15s扫码登录\")\n",
    "        time.sleep(15)\n",
    "        # go to the cart\n",
    "        browser.find_element(By.XPATH, '//*[@id=\"mc-menu-hd\"]/span[2]').click()\n",
    "        now = datetime.datetime.now()\n",
    "        print('login success: ', now.strftime('%Y-%m-%d %H:%M:%S:%f'))\n",
    "        \n",
    "   \n",
    "def buy(buytime):\n",
    "    '''\n",
    "    select items and buy at alloted time\n",
    "    '''\n",
    "    # select all items\n",
    "    browser.find_element(By.XPATH, '//*[@id=\"J_SelectAll1\"]/div/label').click()\n",
    "    time.sleep(0.1)\n",
    "    \n",
    "    # repeat following process if there are some errors\n",
    "    while True:\n",
    "        # record the current time\n",
    "        now = datetime.datetime.now().strftime('%Y-%m-%d %H:%M:%S:%f')\n",
    "        \n",
    "        # if the time comes\n",
    "        if now >= buytime:\n",
    "            print(f\"begin at {datetime.datetime.now().strftime('%Y-%m-%d %H:%M:%S:%f')}\")\n",
    "            try:\n",
    "                # click the button when the time comes\n",
    "                if browser.find_element(By.XPATH, '//*[@id=\"J_Go\"]'):\n",
    "                    browser.find_element(By.XPATH, '//*[@id=\"J_Go\"]').click()\n",
    "                    print(f\"click at {datetime.datetime.now().strftime('%Y-%m-%d %H:%M:%S:%f')}\")\n",
    "                    time.sleep(0.25)\n",
    "                    \n",
    "                    # repeat submit the order if there are some errors\n",
    "                    while True:\n",
    "                        try:\n",
    "                            # submit the order\n",
    "                            if browser.find_element(By.XPATH, '//*[@id=\"submitOrderPC_1\"]/div/a[2]'):\n",
    "                                browser.find_element(By.XPATH, '//*[@id=\"submitOrderPC_1\"]/div/a[2]').click()\n",
    "                                print('successfully done')\n",
    "                                break\n",
    "                        except:\n",
    "                            time.sleep(0.02)\n",
    "                    break\n",
    "            except:\n",
    "                time.sleep(0.05)\n",
    "            \n",
    "            \n",
    "    \n",
    "            \n",
    "        "
   ]
  },
  {
   "cell_type": "markdown",
   "id": "d379b1e8",
   "metadata": {},
   "source": [
    "# Write the main program"
   ]
  },
  {
   "cell_type": "code",
   "execution_count": 9,
   "id": "c3c43194",
   "metadata": {
    "scrolled": true
   },
   "outputs": [
    {
     "name": "stdout",
     "output_type": "stream",
     "text": [
      "Please input the buy time e.g. 2022-06-30 22:10:00:000000 2022-06-30 22:42:00:000000\n"
     ]
    },
    {
     "name": "stderr",
     "output_type": "stream",
     "text": [
      "C:\\Users\\lenovo\\AppData\\Local\\Temp/ipykernel_5940/2386324277.py:10: DeprecationWarning: executable_path has been deprecated, please pass in a Service object\n",
      "  browser = webdriver.Chrome('D:\\py\\Web auto\\Selenium\\chromedriver_win32\\chromedriver', options=options)\n"
     ]
    },
    {
     "name": "stdout",
     "output_type": "stream",
     "text": [
      "您有15s扫码登录\n",
      "login success:  2022-06-30 22:41:27:115407\n",
      "begin at 2022-06-30 22:42:00:008070\n",
      "click at 2022-06-30 22:42:00:087097\n",
      "successfully done\n"
     ]
    }
   ],
   "source": [
    "# store the buytime\n",
    "buytime = input('Please input the buy time e.g. 2022-06-30 22:10:00:000000 ')\n",
    "\n",
    "\n",
    "# open the chrome \n",
    "# these option settings are to avoid automation control, which is easily detected by taobao\n",
    "options = webdriver.ChromeOptions()\n",
    "options.add_experimental_option(\"excludeSwitches\", [\"enable-automation\"])\n",
    "options.add_experimental_option('useAutomationExtension', False)\n",
    "browser = webdriver.Chrome('D:\\py\\Web auto\\Selenium\\chromedriver_win32\\chromedriver', options=options)\n",
    "\n",
    "# wait for 3s\n",
    "time.sleep(3)\n",
    "\n",
    "# login your account\n",
    "login()\n",
    "# buy itmes\n",
    "buy(buytime)"
   ]
  }
 ],
 "metadata": {
  "kernelspec": {
   "display_name": "Python 3 (ipykernel)",
   "language": "python",
   "name": "python3"
  },
  "language_info": {
   "codemirror_mode": {
    "name": "ipython",
    "version": 3
   },
   "file_extension": ".py",
   "mimetype": "text/x-python",
   "name": "python",
   "nbconvert_exporter": "python",
   "pygments_lexer": "ipython3",
   "version": "3.9.6"
  },
  "toc": {
   "base_numbering": 1,
   "nav_menu": {},
   "number_sections": true,
   "sideBar": true,
   "skip_h1_title": false,
   "title_cell": "Table of Contents",
   "title_sidebar": "Contents",
   "toc_cell": false,
   "toc_position": {},
   "toc_section_display": true,
   "toc_window_display": false
  }
 },
 "nbformat": 4,
 "nbformat_minor": 5
}
